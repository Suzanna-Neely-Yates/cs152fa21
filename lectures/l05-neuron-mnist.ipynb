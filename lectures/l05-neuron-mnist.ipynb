{
 "cells": [
  {
   "cell_type": "markdown",
   "metadata": {},
   "source": [
    "# Batch Gradient Descent With a Single Neuron\n",
    "\n",
    "*Tue Sep 14, Week 3, Lecture 5*\n",
    "\n",
    "## Why Python and why Jupyter Notebooks?\n",
    "\n",
    "- Python is not an ideal langauge for this\n",
    "- Jupyter is not an ideal environment for htis\n",
    "- They are, however, in my opinion the **best** we have \n",
    "\n",
    "## Notes\n",
    "\n",
    "- In this example, I am not going to do fancy imports\n",
    "- I want you to see the layout of torch and torchvision"
   ]
  },
  {
   "cell_type": "code",
   "execution_count": 1,
   "metadata": {},
   "outputs": [],
   "source": [
    "import torch"
   ]
  },
  {
   "cell_type": "code",
   "execution_count": 2,
   "metadata": {},
   "outputs": [
    {
     "data": {
      "text/plain": [
       "tensor([0.9120, 0.5050, 0.3956, 0.9114, 0.9286])"
      ]
     },
     "execution_count": 2,
     "metadata": {},
     "output_type": "execute_result"
    }
   ],
   "source": [
    "torch.rand(5)"
   ]
  },
  {
   "cell_type": "code",
   "execution_count": 3,
   "metadata": {},
   "outputs": [
    {
     "data": {
      "text/plain": [
       "torch.Size([5])"
      ]
     },
     "execution_count": 3,
     "metadata": {},
     "output_type": "execute_result"
    }
   ],
   "source": [
    "torch.rand(5).shape"
   ]
  },
  {
   "cell_type": "code",
   "execution_count": 4,
   "metadata": {
    "scrolled": true
   },
   "outputs": [
    {
     "data": {
      "text/plain": [
       "tensor([[0.0540, 0.0361, 0.3298, 0.0743, 0.1822, 0.7157, 0.8798, 0.9200, 0.7097,\n",
       "         0.9226, 0.3338, 0.6951, 0.0884, 0.4920, 0.8780, 0.2848, 0.2800, 0.6815,\n",
       "         0.9246, 0.2960, 0.1443, 0.0108, 0.2903, 0.4368, 0.4282],\n",
       "        [0.7610, 0.6589, 0.2155, 0.9144, 0.7985, 0.4448, 0.0974, 0.7450, 0.7397,\n",
       "         0.1322, 0.5526, 0.3134, 0.4770, 0.9907, 0.5516, 0.1553, 0.3222, 0.4897,\n",
       "         0.1904, 0.0258, 0.5094, 0.7269, 0.4406, 0.4503, 0.3716],\n",
       "        [0.4530, 0.6833, 0.7290, 0.6231, 0.1041, 0.5911, 0.7729, 0.9650, 0.7578,\n",
       "         0.2733, 0.7280, 0.2552, 0.4496, 0.5179, 0.8350, 0.9752, 0.5435, 0.9302,\n",
       "         0.6577, 0.2068, 0.0260, 0.4826, 0.2520, 0.9339, 0.4559],\n",
       "        [0.4996, 0.6332, 0.6152, 0.0232, 0.2651, 0.4298, 0.2390, 0.4478, 0.5714,\n",
       "         0.8041, 0.4059, 0.2356, 0.6228, 0.9070, 0.5065, 0.9406, 0.8910, 0.3987,\n",
       "         0.5466, 0.0595, 0.8002, 0.6496, 0.2386, 0.9390, 0.7018],\n",
       "        [0.0770, 0.5473, 0.6662, 0.5145, 0.4932, 0.4074, 0.0254, 0.5376, 0.8150,\n",
       "         0.9117, 0.6951, 0.2077, 0.4006, 0.3381, 0.2876, 0.3783, 0.9914, 0.0292,\n",
       "         0.2875, 0.1516, 0.4786, 0.8023, 0.7276, 0.2584, 0.3236]])"
      ]
     },
     "execution_count": 4,
     "metadata": {},
     "output_type": "execute_result"
    }
   ],
   "source": [
    "torch.rand(5, 25)"
   ]
  },
  {
   "cell_type": "code",
   "execution_count": 5,
   "metadata": {},
   "outputs": [
    {
     "data": {
      "text/plain": [
       "torch.Size([5, 25])"
      ]
     },
     "execution_count": 5,
     "metadata": {},
     "output_type": "execute_result"
    }
   ],
   "source": [
    "torch.rand(5, 25).shape"
   ]
  },
  {
   "cell_type": "code",
   "execution_count": 6,
   "metadata": {},
   "outputs": [],
   "source": [
    "X = torch.rand(5, 12)\n",
    "Y = torch.rand(12, 16)"
   ]
  },
  {
   "cell_type": "code",
   "execution_count": 7,
   "metadata": {},
   "outputs": [
    {
     "data": {
      "text/plain": [
       "(torch.Size([5, 12]), torch.Size([12, 16]))"
      ]
     },
     "execution_count": 7,
     "metadata": {},
     "output_type": "execute_result"
    }
   ],
   "source": [
    "X.shape, Y.shape"
   ]
  },
  {
   "cell_type": "code",
   "execution_count": 8,
   "metadata": {},
   "outputs": [
    {
     "data": {
      "text/plain": [
       "tensor([[0.6348, 0.0901, 0.6855, 0.0608, 0.5378, 0.9917, 0.9998, 0.2161, 0.8612,\n",
       "         0.4646, 0.1605, 0.4146],\n",
       "        [0.7546, 0.5155, 0.7558, 0.8316, 0.8956, 0.4507, 0.4361, 0.5235, 0.6558,\n",
       "         0.0711, 0.8133, 0.3804],\n",
       "        [0.8339, 0.7363, 0.5287, 0.6124, 0.1527, 0.5705, 0.4547, 0.9635, 0.0576,\n",
       "         0.5325, 0.9929, 0.2997],\n",
       "        [0.6609, 0.9461, 0.5655, 0.6843, 0.9451, 0.3578, 0.8048, 0.8533, 0.5560,\n",
       "         0.8390, 0.4376, 0.2681],\n",
       "        [0.8620, 0.8097, 0.0840, 0.9751, 0.4816, 0.8664, 0.7712, 0.7846, 0.7597,\n",
       "         0.2826, 0.2602, 0.8233]])"
      ]
     },
     "execution_count": 8,
     "metadata": {},
     "output_type": "execute_result"
    }
   ],
   "source": [
    "X"
   ]
  },
  {
   "cell_type": "code",
   "execution_count": 9,
   "metadata": {},
   "outputs": [
    {
     "data": {
      "text/plain": [
       "tensor([[4.0370, 2.4348, 2.2828, 3.2892, 2.8226, 3.1621, 3.7073, 3.7979, 2.3162,\n",
       "         3.3475, 3.8544, 3.0717, 2.6269, 3.0149, 2.9797, 3.0195],\n",
       "        [4.4480, 2.8453, 3.0292, 3.4466, 3.0640, 3.4669, 4.6764, 3.7691, 2.4932,\n",
       "         4.3211, 4.6941, 3.8666, 3.4373, 3.5133, 4.0105, 3.3762],\n",
       "        [4.0296, 3.7872, 2.5899, 3.2901, 2.3836, 3.1732, 4.4185, 3.3020, 2.3271,\n",
       "         4.7741, 4.4798, 3.7154, 2.4718, 3.4725, 3.9626, 3.0460],\n",
       "        [5.2747, 3.7831, 3.2387, 4.0184, 3.0905, 4.2749, 5.1195, 3.6655, 3.1372,\n",
       "         4.9933, 4.7825, 3.7386, 3.4816, 4.0144, 4.6701, 3.9732],\n",
       "        [4.7898, 3.1772, 3.0323, 3.8919, 2.8792, 3.9583, 5.1986, 3.7774, 2.9512,\n",
       "         4.5247, 4.4946, 3.5312, 3.2572, 4.1203, 4.0593, 4.1180]])"
      ]
     },
     "execution_count": 9,
     "metadata": {},
     "output_type": "execute_result"
    }
   ],
   "source": [
    "X @ Y"
   ]
  },
  {
   "cell_type": "code",
   "execution_count": 10,
   "metadata": {},
   "outputs": [],
   "source": [
    "Z = X @ Y"
   ]
  },
  {
   "cell_type": "code",
   "execution_count": 11,
   "metadata": {},
   "outputs": [
    {
     "data": {
      "text/plain": [
       "(torch.Size([5, 12]), torch.Size([12, 16]))"
      ]
     },
     "execution_count": 11,
     "metadata": {},
     "output_type": "execute_result"
    }
   ],
   "source": [
    "X.shape, Y.shape"
   ]
  },
  {
   "cell_type": "code",
   "execution_count": 12,
   "metadata": {},
   "outputs": [
    {
     "data": {
      "text/plain": [
       "torch.Size([5, 16])"
      ]
     },
     "execution_count": 12,
     "metadata": {},
     "output_type": "execute_result"
    }
   ],
   "source": [
    "Z.shape"
   ]
  },
  {
   "cell_type": "code",
   "execution_count": 13,
   "metadata": {
    "scrolled": true
   },
   "outputs": [
    {
     "ename": "RuntimeError",
     "evalue": "mat1 and mat2 shapes cannot be multiplied (12x16 and 5x16)",
     "output_type": "error",
     "traceback": [
      "\u001b[0;31m---------------------------------------------------------------------------\u001b[0m",
      "\u001b[0;31mRuntimeError\u001b[0m                              Traceback (most recent call last)",
      "\u001b[0;32m/tmp/ipykernel_3172577/3521315727.py\u001b[0m in \u001b[0;36m<module>\u001b[0;34m\u001b[0m\n\u001b[0;32m----> 1\u001b[0;31m \u001b[0mY\u001b[0m \u001b[0;34m@\u001b[0m \u001b[0mZ\u001b[0m\u001b[0;34m\u001b[0m\u001b[0;34m\u001b[0m\u001b[0m\n\u001b[0m",
      "\u001b[0;31mRuntimeError\u001b[0m: mat1 and mat2 shapes cannot be multiplied (12x16 and 5x16)"
     ]
    }
   ],
   "source": [
    "Y @ Z"
   ]
  },
  {
   "cell_type": "code",
   "execution_count": 14,
   "metadata": {},
   "outputs": [],
   "source": [
    "import torchvision"
   ]
  },
  {
   "cell_type": "code",
   "execution_count": 15,
   "metadata": {},
   "outputs": [
    {
     "name": "stdout",
     "output_type": "stream",
     "text": [
      "Downloading http://yann.lecun.com/exdb/mnist/train-images-idx3-ubyte.gz\n",
      "Downloading http://yann.lecun.com/exdb/mnist/train-images-idx3-ubyte.gz to ../data/MNIST/raw/train-images-idx3-ubyte.gz\n"
     ]
    },
    {
     "data": {
      "application/vnd.jupyter.widget-view+json": {
       "model_id": "4afae7b0c17b4e1eae23178a3043b095",
       "version_major": 2,
       "version_minor": 0
      },
      "text/plain": [
       "  0%|          | 0/9912422 [00:00<?, ?it/s]"
      ]
     },
     "metadata": {},
     "output_type": "display_data"
    },
    {
     "name": "stdout",
     "output_type": "stream",
     "text": [
      "Extracting ../data/MNIST/raw/train-images-idx3-ubyte.gz to ../data/MNIST/raw\n",
      "\n",
      "Downloading http://yann.lecun.com/exdb/mnist/train-labels-idx1-ubyte.gz\n",
      "Downloading http://yann.lecun.com/exdb/mnist/train-labels-idx1-ubyte.gz to ../data/MNIST/raw/train-labels-idx1-ubyte.gz\n"
     ]
    },
    {
     "data": {
      "application/vnd.jupyter.widget-view+json": {
       "model_id": "0af981dc17c5486b842ce449a5884691",
       "version_major": 2,
       "version_minor": 0
      },
      "text/plain": [
       "  0%|          | 0/28881 [00:00<?, ?it/s]"
      ]
     },
     "metadata": {},
     "output_type": "display_data"
    },
    {
     "name": "stdout",
     "output_type": "stream",
     "text": [
      "Extracting ../data/MNIST/raw/train-labels-idx1-ubyte.gz to ../data/MNIST/raw\n",
      "\n",
      "Downloading http://yann.lecun.com/exdb/mnist/t10k-images-idx3-ubyte.gz\n",
      "Downloading http://yann.lecun.com/exdb/mnist/t10k-images-idx3-ubyte.gz to ../data/MNIST/raw/t10k-images-idx3-ubyte.gz\n"
     ]
    },
    {
     "data": {
      "application/vnd.jupyter.widget-view+json": {
       "model_id": "13998cc0148d461b8cac92621d969ec5",
       "version_major": 2,
       "version_minor": 0
      },
      "text/plain": [
       "  0%|          | 0/1648877 [00:00<?, ?it/s]"
      ]
     },
     "metadata": {},
     "output_type": "display_data"
    },
    {
     "name": "stdout",
     "output_type": "stream",
     "text": [
      "Extracting ../data/MNIST/raw/t10k-images-idx3-ubyte.gz to ../data/MNIST/raw\n",
      "\n",
      "Downloading http://yann.lecun.com/exdb/mnist/t10k-labels-idx1-ubyte.gz\n",
      "Downloading http://yann.lecun.com/exdb/mnist/t10k-labels-idx1-ubyte.gz to ../data/MNIST/raw/t10k-labels-idx1-ubyte.gz\n"
     ]
    },
    {
     "data": {
      "application/vnd.jupyter.widget-view+json": {
       "model_id": "82ff46ae527142af862486090b858f08",
       "version_major": 2,
       "version_minor": 0
      },
      "text/plain": [
       "  0%|          | 0/4542 [00:00<?, ?it/s]"
      ]
     },
     "metadata": {},
     "output_type": "display_data"
    },
    {
     "name": "stdout",
     "output_type": "stream",
     "text": [
      "Extracting ../data/MNIST/raw/t10k-labels-idx1-ubyte.gz to ../data/MNIST/raw\n",
      "\n"
     ]
    },
    {
     "name": "stderr",
     "output_type": "stream",
     "text": [
      "/opt/mambaforge/envs/cs152/lib/python3.8/site-packages/torchvision/datasets/mnist.py:498: UserWarning: The given NumPy array is not writeable, and PyTorch does not support non-writeable tensors. This means you can write to the underlying (supposedly non-writeable) NumPy array using the tensor. You may want to copy the array to protect its data or make it writeable before converting it to a tensor. This type of warning will be suppressed for the rest of this program. (Triggered internally at  /tmp/pip-req-build-pma2oi4d/torch/csrc/utils/tensor_numpy.cpp:180.)\n",
      "  return torch.from_numpy(parsed.astype(m[2], copy=False)).view(*s)\n"
     ]
    }
   ],
   "source": [
    "# MNIST : hello world\n",
    "# EMNIST : extended with letters in addition to digits\n",
    "# KMNIST : Kuzushiji, Japanese characters\n",
    "# QMNIST : newer MNIST with better source information\n",
    "\n",
    "data_path = \"../data/\"\n",
    "\n",
    "mnist_transforms = torchvision.transforms.Compose(\n",
    "    [\n",
    "        torchvision.transforms.ToTensor(),\n",
    "        torchvision.transforms.Normalize((0.1307,), (0.3081,)),\n",
    "    ]\n",
    ")\n",
    "\n",
    "train_dataset = torchvision.datasets.MNIST(\n",
    "    root=data_path, train=True, download=True, transform=mnist_transforms\n",
    ")"
   ]
  },
  {
   "cell_type": "code",
   "execution_count": 16,
   "metadata": {},
   "outputs": [],
   "source": [
    "# batch_size, shuffle\n",
    "train_loader = torch.utils.data.DataLoader(train_dataset)"
   ]
  },
  {
   "cell_type": "code",
   "execution_count": 17,
   "metadata": {},
   "outputs": [],
   "source": [
    "image, label = next(iter(train_loader))"
   ]
  },
  {
   "cell_type": "code",
   "execution_count": 18,
   "metadata": {},
   "outputs": [
    {
     "data": {
      "text/plain": [
       "torch.Size([1, 1, 28, 28])"
      ]
     },
     "execution_count": 18,
     "metadata": {},
     "output_type": "execute_result"
    }
   ],
   "source": [
    "image.shape"
   ]
  },
  {
   "cell_type": "code",
   "execution_count": 19,
   "metadata": {},
   "outputs": [
    {
     "data": {
      "text/plain": [
       "(torch.Size([1]), tensor([5]))"
      ]
     },
     "execution_count": 19,
     "metadata": {},
     "output_type": "execute_result"
    }
   ],
   "source": [
    "label.shape, label"
   ]
  },
  {
   "cell_type": "code",
   "execution_count": 20,
   "metadata": {},
   "outputs": [],
   "source": [
    "import matplotlib.pyplot as plt"
   ]
  },
  {
   "cell_type": "code",
   "execution_count": 21,
   "metadata": {},
   "outputs": [
    {
     "data": {
      "image/png": "[encoded data removed]",
      "text/plain": [
       "<Figure size 864x864 with 8 Axes>"
      ]
     },
     "metadata": {},
     "output_type": "display_data"
    }
   ],
   "source": [
    "num_to_show = 8\n",
    "\n",
    "fig, axes = plt.subplots(1, num_to_show, figsize=(12, 12))\n",
    "\n",
    "for axis, (image, label) in zip(axes, train_loader):\n",
    "    axis.imshow(image.squeeze(), cmap=\"Greys\")\n",
    "    axis.tick_params(left=False, bottom=False, labelleft=False, labelbottom=False)\n",
    "    axis.set_title(f\"Label: {label[0]}\")"
   ]
  },
  {
   "cell_type": "code",
   "execution_count": 22,
   "metadata": {},
   "outputs": [],
   "source": [
    "# Simple single neuron model; sometimes called logistic regression\n",
    "\n",
    "num_pixels = 28 * 28\n",
    "\n",
    "# Neuron parameters\n",
    "weights = torch.randn(num_pixels, 1) * 0.01\n",
    "bias = torch.zeros(1)"
   ]
  },
  {
   "cell_type": "code",
   "execution_count": 23,
   "metadata": {},
   "outputs": [
    {
     "data": {
      "text/plain": [
       "(torch.Size([784, 1]),\n",
       " torch.Size([1]),\n",
       " torch.Size([1, 28, 28]),\n",
       " torch.Size([784, 1]))"
      ]
     },
     "execution_count": 23,
     "metadata": {},
     "output_type": "execute_result"
    }
   ],
   "source": [
    "weights.shape, bias.shape, image[0].shape, image[0].view(num_pixels, 1).shape"
   ]
  },
  {
   "cell_type": "code",
   "execution_count": 24,
   "metadata": {},
   "outputs": [],
   "source": [
    "x = image[0]"
   ]
  },
  {
   "cell_type": "code",
   "execution_count": 25,
   "metadata": {},
   "outputs": [
    {
     "ename": "RuntimeError",
     "evalue": "mat1 and mat2 shapes cannot be multiplied (28x28 and 1x784)",
     "output_type": "error",
     "traceback": [
      "\u001b[0;31m---------------------------------------------------------------------------\u001b[0m",
      "\u001b[0;31mRuntimeError\u001b[0m                              Traceback (most recent call last)",
      "\u001b[0;32m/tmp/ipykernel_3172577/2984902103.py\u001b[0m in \u001b[0;36m<module>\u001b[0;34m\u001b[0m\n\u001b[0;32m----> 1\u001b[0;31m \u001b[0mweights\u001b[0m \u001b[0;34m@\u001b[0m \u001b[0mx\u001b[0m\u001b[0;34m\u001b[0m\u001b[0;34m\u001b[0m\u001b[0m\n\u001b[0m",
      "\u001b[0;31mRuntimeError\u001b[0m: mat1 and mat2 shapes cannot be multiplied (28x28 and 1x784)"
     ]
    }
   ],
   "source": [
    "weights @ x"
   ]
  },
  {
   "cell_type": "code",
   "execution_count": 26,
   "metadata": {},
   "outputs": [],
   "source": [
    "x = image[0].view(num_pixels, 1)"
   ]
  },
  {
   "cell_type": "code",
   "execution_count": 27,
   "metadata": {},
   "outputs": [
    {
     "ename": "RuntimeError",
     "evalue": "mat1 and mat2 shapes cannot be multiplied (784x1 and 784x1)",
     "output_type": "error",
     "traceback": [
      "\u001b[0;31m---------------------------------------------------------------------------\u001b[0m",
      "\u001b[0;31mRuntimeError\u001b[0m                              Traceback (most recent call last)",
      "\u001b[0;32m/tmp/ipykernel_3172577/2984902103.py\u001b[0m in \u001b[0;36m<module>\u001b[0;34m\u001b[0m\n\u001b[0;32m----> 1\u001b[0;31m \u001b[0mweights\u001b[0m \u001b[0;34m@\u001b[0m \u001b[0mx\u001b[0m\u001b[0;34m\u001b[0m\u001b[0;34m\u001b[0m\u001b[0m\n\u001b[0m",
      "\u001b[0;31mRuntimeError\u001b[0m: mat1 and mat2 shapes cannot be multiplied (784x1 and 784x1)"
     ]
    }
   ],
   "source": [
    "weights @ x"
   ]
  },
  {
   "cell_type": "code",
   "execution_count": 28,
   "metadata": {},
   "outputs": [
    {
     "data": {
      "text/plain": [
       "tensor([[0.4278]])"
      ]
     },
     "execution_count": 28,
     "metadata": {},
     "output_type": "execute_result"
    }
   ],
   "source": [
    "weights.T @ x"
   ]
  },
  {
   "cell_type": "code",
   "execution_count": 29,
   "metadata": {},
   "outputs": [],
   "source": [
    "# from torch import FloatTensor, FloatType\n",
    "\n",
    "\n",
    "def linear(w, b, x):\n",
    "    return w.T @ x + b"
   ]
  },
  {
   "cell_type": "code",
   "execution_count": 30,
   "metadata": {},
   "outputs": [
    {
     "data": {
      "text/plain": [
       "tensor([[0.4278]])"
      ]
     },
     "execution_count": 30,
     "metadata": {},
     "output_type": "execute_result"
    }
   ],
   "source": [
    "linear(weights, bias, x)"
   ]
  },
  {
   "cell_type": "code",
   "execution_count": 31,
   "metadata": {},
   "outputs": [],
   "source": [
    "def sigmoid(z):\n",
    "    return 1 / (1 + torch.exp(-z))"
   ]
  },
  {
   "cell_type": "code",
   "execution_count": 32,
   "metadata": {},
   "outputs": [
    {
     "data": {
      "text/plain": [
       "tensor([[0.6053]])"
      ]
     },
     "execution_count": 32,
     "metadata": {},
     "output_type": "execute_result"
    }
   ],
   "source": [
    "sigmoid(linear(weights, bias, x))"
   ]
  },
  {
   "cell_type": "code",
   "execution_count": 33,
   "metadata": {},
   "outputs": [],
   "source": [
    "# Get down to two classes (let them pick)\n",
    "\n",
    "class1 = 7\n",
    "class2 = 1\n",
    "\n",
    "idx1 = [i for i, t in enumerate(train_dataset.targets) if t == class1]\n",
    "idx2 = [i for i, t in enumerate(train_dataset.targets) if t == class2]\n",
    "\n",
    "idxs = idx1 + idx2\n",
    "train_size = len(idxs)\n",
    "\n",
    "train_loader2 = torch.utils.data.DataLoader(\n",
    "    train_dataset, sampler=torch.utils.data.SubsetRandomSampler(idxs)\n",
    ")"
   ]
  },
  {
   "cell_type": "code",
   "execution_count": 34,
   "metadata": {},
   "outputs": [
    {
     "data": {
      "image/png": "[encoded data removed]",
      "text/plain": [
       "<Figure size 864x864 with 8 Axes>"
      ]
     },
     "metadata": {},
     "output_type": "display_data"
    }
   ],
   "source": [
    "num_to_show = 8\n",
    "\n",
    "fig, axes = plt.subplots(1, num_to_show, figsize=(12, 12))\n",
    "\n",
    "for axis, (image, label) in zip(axes, train_loader2):\n",
    "    axis.imshow(image.squeeze(), cmap=\"Greys\")\n",
    "    axis.tick_params(left=False, bottom=False, labelleft=False, labelbottom=False)\n",
    "    axis.set_title(f\"Label: {label[0]}\")"
   ]
  },
  {
   "cell_type": "code",
   "execution_count": 35,
   "metadata": {},
   "outputs": [],
   "source": [
    "from time import time"
   ]
  },
  {
   "cell_type": "code",
   "execution_count": 36,
   "metadata": {},
   "outputs": [
    {
     "name": "stdout",
     "output_type": "stream",
     "text": [
      " 1/10, Cost=8858.2, Time=6.2s\n",
      " 2/10, Cost=6752.8, Time=6.2s\n",
      " 3/10, Cost=5462.6, Time=6.3s\n",
      " 4/10, Cost=4619.1, Time=6.2s\n",
      " 5/10, Cost=4031.3, Time=6.3s\n",
      " 6/10, Cost=3599.6, Time=6.3s\n",
      " 7/10, Cost=3269.2, Time=6.2s\n",
      " 8/10, Cost=3007.9, Time=6.3s\n",
      " 9/10, Cost=2795.7, Time=6.3s\n",
      "10/10, Cost=2619.8, Time=6.3s\n"
     ]
    }
   ],
   "source": [
    "# Optimization, binary cross-entropy loss (Log loss, aka logistic loss or cross-entropy loss)\n",
    "# defined as the negative log-likelihood of a logistic model that returns y_pred probabilities for its training data y_true\n",
    "\n",
    "# compare with: subtraction, MSE, abs\n",
    "\n",
    "\n",
    "def target_to_sigmoid(target):\n",
    "    new_target = torch.zeros_like(target)\n",
    "    new_target[target == class1] = 1\n",
    "    return new_target\n",
    "\n",
    "\n",
    "# Neuron parameters\n",
    "num_pixels = 28 * 28\n",
    "weights = torch.randn(num_pixels, 1) * 0.01\n",
    "bias = torch.zeros(1)\n",
    "\n",
    "num_epochs = 4\n",
    "learning_rate = 0.01\n",
    "\n",
    "for epoch in range(num_epochs):\n",
    "\n",
    "    cost = 0\n",
    "    weights_derivatives = torch.zeros_like(weights)\n",
    "    bias_derivative = torch.zeros_like(bias)\n",
    "\n",
    "    start = time()\n",
    "\n",
    "    for image, target in train_loader2:\n",
    "\n",
    "        image = image.view(num_pixels, 1)\n",
    "        target = target_to_sigmoid(target)\n",
    "\n",
    "        prediction = sigmoid(linear(weights, bias, image))\n",
    "\n",
    "        loss = target * torch.log(prediction) + (1 - target) * torch.log(1 - prediction)\n",
    "        cost -= loss\n",
    "\n",
    "        dz = prediction - target\n",
    "        weights_derivatives += image * dz\n",
    "        bias_derivative += dz.squeeze()\n",
    "\n",
    "    weights_derivatives /= len(train_loader2)\n",
    "    bias_derivative /= len(train_loader2)\n",
    "\n",
    "    weights -= learning_rate * weights_derivatives\n",
    "    bias -= learning_rate * bias_derivative\n",
    "\n",
    "    print(\n",
    "        f\"{epoch+1:>2}/{num_epochs}, Cost={cost[0][0]:0.1f}, Time={time()-start:0.1f}s\"\n",
    "    )"
   ]
  },
  {
   "cell_type": "code",
   "execution_count": 37,
   "metadata": {},
   "outputs": [],
   "source": [
    "# Set the batch size to be equal to the size of the training dataset\n",
    "train_loader2All = torch.utils.data.DataLoader(\n",
    "    train_dataset,\n",
    "    sampler=torch.utils.data.SubsetRandomSampler(idxs),\n",
    "    batch_size=train_size,\n",
    ")"
   ]
  },
  {
   "cell_type": "code",
   "execution_count": 38,
   "metadata": {},
   "outputs": [
    {
     "name": "stdout",
     "output_type": "stream",
     "text": [
      " 1/10, Cost=8370.6, Time=2.6s\n",
      " 2/10, Cost=6452.7, Time=2.6s\n",
      " 3/10, Cost=5264.7, Time=2.6s\n",
      " 4/10, Cost=4479.0, Time=2.6s\n",
      " 5/10, Cost=3926.1, Time=2.6s\n",
      " 6/10, Cost=3517.0, Time=2.6s\n",
      " 7/10, Cost=3202.0, Time=2.6s\n",
      " 8/10, Cost=2951.7, Time=2.6s\n",
      " 9/10, Cost=2747.8, Time=2.6s\n",
      "10/10, Cost=2578.1, Time=2.5s\n"
     ]
    }
   ],
   "source": [
    "# Vectorize (operate on all images at once)\n",
    "\n",
    "# Neuron parameters\n",
    "num_pixels = 28 * 28\n",
    "weights = torch.randn(num_pixels, 1) * 0.01\n",
    "bias = torch.zeros(1)\n",
    "\n",
    "num_epochs = 4\n",
    "learning_rate = 0.01\n",
    "\n",
    "for epoch in range(num_epochs):\n",
    "\n",
    "    weights_derivatives = torch.zeros_like(weights)\n",
    "    bias_derivative = torch.zeros_like(bias)\n",
    "\n",
    "    start = time()\n",
    "\n",
    "    images, targets = next(iter(train_loader2All))\n",
    "    # print(len(images), images.shape, images.view(train_size, num_pixels))\n",
    "\n",
    "    images = images.view(train_size, num_pixels)\n",
    "    targets = target_to_sigmoid(targets)\n",
    "\n",
    "    predictions = sigmoid(linear(weights, bias, images.T))\n",
    "    # print(predictions.shape, targets.shape)\n",
    "\n",
    "    loss = targets * torch.log(predictions) + (1 - targets) * torch.log(1 - predictions)\n",
    "    cost = -loss.sum()\n",
    "\n",
    "    dZ = predictions - targets\n",
    "    weights_derivatives = (1 / train_size) * (dZ @ images)\n",
    "    bias_derivative = (1 / train_size) * dZ.sum()\n",
    "\n",
    "    weights -= learning_rate * weights_derivatives.T\n",
    "    bias -= learning_rate * bias_derivative\n",
    "\n",
    "    print(f\"{epoch+1:>2}/{num_epochs}, Cost={cost:0.1f}, Time={time()-start:0.1f}s\")"
   ]
  },
  {
   "cell_type": "code",
   "execution_count": 39,
   "metadata": {},
   "outputs": [
    {
     "name": "stdout",
     "output_type": "stream",
     "text": [
      "2163\n"
     ]
    }
   ],
   "source": [
    "# Create the validation dataset\n",
    "\n",
    "valid_dataset = torchvision.datasets.MNIST(\n",
    "    root=data_path, train=False, download=True, transform=mnist_transforms\n",
    ")\n",
    "\n",
    "idx1 = [i for i, t in enumerate(valid_dataset.targets) if t == class1]\n",
    "idx2 = [i for i, t in enumerate(valid_dataset.targets) if t == class2]\n",
    "\n",
    "valid_idxs = idx1 + idx2\n",
    "valid_size = len(valid_idxs)\n",
    "\n",
    "print(valid_size)\n",
    "\n",
    "valid_loader2All = torch.utils.data.DataLoader(\n",
    "    valid_dataset,\n",
    "    sampler=torch.utils.data.SubsetRandomSampler(valid_idxs),\n",
    "    batch_size=valid_size,\n",
    ")"
   ]
  },
  {
   "cell_type": "code",
   "execution_count": 40,
   "metadata": {},
   "outputs": [
    {
     "name": "stdout",
     "output_type": "stream",
     "text": [
      "Accuracy=0.36\n",
      " 1/10, Cost=9679.5, Accuracy=0.96, Time=3.0s\n",
      " 2/10, Cost=7198.0, Accuracy=0.96, Time=3.0s\n",
      " 3/10, Cost=5707.8, Accuracy=0.96, Time=3.0s\n",
      " 4/10, Cost=4760.8, Accuracy=0.96, Time=3.0s\n",
      " 5/10, Cost=4116.8, Accuracy=0.97, Time=3.1s\n",
      " 6/10, Cost=3652.7, Accuracy=0.97, Time=3.0s\n",
      " 7/10, Cost=3302.5, Accuracy=0.97, Time=3.1s\n",
      " 8/10, Cost=3028.5, Accuracy=0.97, Time=3.0s\n",
      " 9/10, Cost=2808.0, Accuracy=0.97, Time=3.0s\n",
      "10/10, Cost=2626.3, Accuracy=0.97, Time=3.0s\n"
     ]
    }
   ],
   "source": [
    "# Add validation metric\n",
    "\n",
    "# Neuron parameters\n",
    "num_pixels = 28 * 28\n",
    "weights = torch.randn(num_pixels, 1) * 0.01\n",
    "bias = torch.zeros(1)\n",
    "\n",
    "num_epochs = 4\n",
    "learning_rate = 0.01\n",
    "\n",
    "# Validate with accuracy\n",
    "valid_images, valid_targets = next(iter(valid_loader2All))\n",
    "valid_images = valid_images.view(valid_size, num_pixels)\n",
    "valid_targets = target_to_sigmoid(valid_targets)\n",
    "\n",
    "valid_predictions = sigmoid(linear(weights, bias, valid_images.T))\n",
    "\n",
    "accuracy = 1 - (torch.round(valid_predictions) - valid_targets).abs().sum() / valid_size\n",
    "\n",
    "print(f\"Accuracy={accuracy:.2f}\")\n",
    "\n",
    "for epoch in range(num_epochs):\n",
    "\n",
    "    weights_derivatives = torch.zeros_like(weights)\n",
    "    bias_derivative = torch.zeros_like(bias)\n",
    "\n",
    "    start = time()\n",
    "\n",
    "    images, targets = next(iter(train_loader2All))\n",
    "    images = images.view(train_size, num_pixels)\n",
    "    targets = target_to_sigmoid(targets)\n",
    "\n",
    "    predictions = sigmoid(linear(weights, bias, images.T))\n",
    "\n",
    "    loss = targets * torch.log(predictions) + (1 - targets) * torch.log(1 - predictions)\n",
    "    cost = -loss.sum()\n",
    "\n",
    "    dZ = predictions - targets\n",
    "    weights_derivatives = (1 / train_size) * (dZ @ images)\n",
    "    bias_derivative = (1 / train_size) * dZ.sum()\n",
    "\n",
    "    weights -= learning_rate * weights_derivatives.T\n",
    "    bias -= learning_rate * bias_derivative\n",
    "\n",
    "    # Validate with accuracy\n",
    "    valid_images, valid_targets = next(iter(valid_loader2All))\n",
    "    valid_images = valid_images.view(valid_size, num_pixels)\n",
    "    valid_targets = target_to_sigmoid(valid_targets)\n",
    "\n",
    "    valid_predictions = sigmoid(linear(weights, bias, valid_images.T))\n",
    "\n",
    "    accuracy = (\n",
    "        1 - (torch.round(valid_predictions) - valid_targets).abs().sum() / valid_size\n",
    "    )\n",
    "\n",
    "    print(\n",
    "        f\"{epoch+1:>2}/{num_epochs}, Cost={cost:0.1f}, Accuracy={accuracy:.2f}, Time={time()-start:0.1f}s\"\n",
    "    )"
   ]
  },
  {
   "cell_type": "code",
   "execution_count": 41,
   "metadata": {},
   "outputs": [
    {
     "data": {
      "text/plain": [
       "torch.Size([1, 2163])"
      ]
     },
     "execution_count": 41,
     "metadata": {},
     "output_type": "execute_result"
    }
   ],
   "source": [
    "valid_predictions.shape"
   ]
  },
  {
   "cell_type": "code",
   "execution_count": 42,
   "metadata": {},
   "outputs": [
    {
     "data": {
      "text/plain": [
       "torch.Size([2163])"
      ]
     },
     "execution_count": 42,
     "metadata": {},
     "output_type": "execute_result"
    }
   ],
   "source": [
    "valid_targets.shape"
   ]
  },
  {
   "cell_type": "code",
   "execution_count": 43,
   "metadata": {},
   "outputs": [
    {
     "data": {
      "text/plain": [
       "tensor([[0.3499, 0.8859, 0.3387,  ..., 0.7963, 0.1725, 0.1090]])"
      ]
     },
     "execution_count": 43,
     "metadata": {},
     "output_type": "execute_result"
    }
   ],
   "source": [
    "valid_predictions[:10]"
   ]
  },
  {
   "cell_type": "code",
   "execution_count": 44,
   "metadata": {},
   "outputs": [
    {
     "data": {
      "text/plain": [
       "tensor([[0., 1., 0.,  ..., 1., 0., 0.]])"
      ]
     },
     "execution_count": 44,
     "metadata": {},
     "output_type": "execute_result"
    }
   ],
   "source": [
    "torch.round(valid_predictions)"
   ]
  },
  {
   "cell_type": "code",
   "execution_count": 45,
   "metadata": {},
   "outputs": [
    {
     "data": {
      "text/plain": [
       "tensor(-61.)"
      ]
     },
     "execution_count": 45,
     "metadata": {},
     "output_type": "execute_result"
    }
   ],
   "source": [
    "(torch.round(valid_predictions) - valid_targets).sum()"
   ]
  },
  {
   "cell_type": "code",
   "execution_count": 46,
   "metadata": {},
   "outputs": [
    {
     "data": {
      "text/plain": [
       "tensor(-0.0282)"
      ]
     },
     "execution_count": 46,
     "metadata": {},
     "output_type": "execute_result"
    }
   ],
   "source": [
    "(torch.round(valid_predictions) - valid_targets).sum()/valid_size"
   ]
  },
  {
   "cell_type": "code",
   "execution_count": 47,
   "metadata": {},
   "outputs": [
    {
     "data": {
      "text/plain": [
       "tensor(1.0282)"
      ]
     },
     "execution_count": 47,
     "metadata": {},
     "output_type": "execute_result"
    }
   ],
   "source": [
    "1 - (torch.round(valid_predictions) - valid_targets).sum()/valid_size"
   ]
  },
  {
   "cell_type": "code",
   "execution_count": 48,
   "metadata": {},
   "outputs": [],
   "source": [
    "x = 1 - (torch.round(valid_predictions) - valid_targets).sum()/valid_size"
   ]
  },
  {
   "cell_type": "code",
   "execution_count": 49,
   "metadata": {},
   "outputs": [
    {
     "data": {
      "text/plain": [
       "'Accuracy=1.03'"
      ]
     },
     "execution_count": 49,
     "metadata": {},
     "output_type": "execute_result"
    }
   ],
   "source": [
    "f\"Accuracy={x:.2f}\""
   ]
  },
  {
   "cell_type": "code",
   "execution_count": null,
   "metadata": {},
   "outputs": [],
   "source": []
  }
 ],
 "metadata": {
  "jupytext": {
   "formats": "ipynb,auto:percent"
  },
  "kernelspec": {
   "display_name": "Python 3 (ipykernel)",
   "language": "python",
   "name": "python3"
  },
  "language_info": {
   "codemirror_mode": {
    "name": "ipython",
    "version": 3
   },
   "file_extension": ".py",
   "mimetype": "text/x-python",
   "name": "python",
   "nbconvert_exporter": "python",
   "pygments_lexer": "ipython3",
   "version": "3.8.5"
  }
 },
 "nbformat": 4,
 "nbformat_minor": 2
}
